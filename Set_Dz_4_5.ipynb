{
  "nbformat": 4,
  "nbformat_minor": 0,
  "metadata": {
    "colab": {
      "name": "Set_Dz_4-5.ipynb ",
      "provenance": [],
      "collapsed_sections": [],
      "authorship_tag": "ABX9TyPosVRF9BVRzXfMT48QrHjP",
      "include_colab_link": true
    },
    "kernelspec": {
      "name": "python3",
      "display_name": "Python 3"
    },
    "language_info": {
      "name": "python"
    }
  },
  "cells": [
    {
      "cell_type": "markdown",
      "metadata": {
        "id": "view-in-github",
        "colab_type": "text"
      },
      "source": [
        "<a href=\"https://colab.research.google.com/github/AlenaArd/Maths_A/blob/main/Set_Dz_4_5.ipynb\" target=\"_parent\"><img src=\"https://colab.research.google.com/assets/colab-badge.svg\" alt=\"Open In Colab\"/></a>"
      ]
    },
    {
      "cell_type": "markdown",
      "metadata": {
        "id": "VmrwOYkp_m1J"
      },
      "source": [
        ""
      ]
    },
    {
      "cell_type": "markdown",
      "metadata": {
        "id": "3oBZ-xlqLwJu"
      },
      "source": [
        "__№4.__ Сформулируйте словесно высказывания:\n",
        "### $$a)\\,\\,\\, (\\overline A \\vee B) \\rightarrow \\overline C$$\n",
        "### $$б)\\,\\,\\, C \\rightarrow (A \\vee \\overline B)$$\n",
        "\n",
        "- $A:\\,\\,\\,$ сегодня светит солнце; \n",
        "- $B:\\,\\,\\,$ сегодня сыро; \n",
        "- $C:\\,\\,\\,$ я поеду на дачу. "
      ]
    },
    {
      "cell_type": "markdown",
      "metadata": {
        "id": "IrgSnY7y_2dA"
      },
      "source": [
        "\n",
        "**Ответ №4:**\n",
        "\n",
        "а) Если сегодня не светит солнце или сыро, то я не поеду на дачу.\n",
        "\n",
        "\n",
        "б) Если я поехал на дачу, то светит солнце или не сыро.\n",
        "\n",
        "\n"
      ]
    },
    {
      "cell_type": "markdown",
      "metadata": {
        "id": "TjTL2dB0AhCK"
      },
      "source": [
        "**№5**. Пользуясь правилом построения противоположного высказывания, запишите утверждения, противоположные следующим:\n",
        "\n",
        "a) На любом курсе каждого факультета есть студенты, сдающие все экзамены на «отлично».\n",
        "\n",
        "б) В любом самолете на рейсе Вашингтон-Москва присутствует хотя бы один сотрудник силовых органов, в каждой пуговице одежды которого вмонтирован микрофон."
      ]
    },
    {
      "cell_type": "markdown",
      "metadata": {
        "id": "HzFsdq-RA4vx"
      },
      "source": [
        ""
      ]
    },
    {
      "cell_type": "markdown",
      "metadata": {
        "id": "6tycuAnXA5cw"
      },
      "source": [
        "\n",
        "**Ответ: №5**\n",
        "\n",
        "\n",
        "\n",
        "\n",
        "a) (-) Существует курс какого-то факультета, на котором любой студент не сдает какой-то экзамен на «отлично».\n",
        "\n",
        "\n",
        "б) (-) В каком-то самолете на рейсе Вашингтон-Москва не было или ни одного сотрудника силовых органов или в  их одежде существовали пуговицы без микрофона.\n",
        "\n",
        "\n"
      ]
    }
  ]
}