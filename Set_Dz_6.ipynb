{
  "nbformat": 4,
  "nbformat_minor": 0,
  "metadata": {
    "colab": {
      "name": "Set_Dz_6",
      "provenance": [],
      "authorship_tag": "ABX9TyOoymqUUIVv3DsElkANHV+S",
      "include_colab_link": true
    },
    "kernelspec": {
      "name": "python3",
      "display_name": "Python 3"
    },
    "language_info": {
      "name": "python"
    }
  },
  "cells": [
    {
      "cell_type": "markdown",
      "metadata": {
        "id": "view-in-github",
        "colab_type": "text"
      },
      "source": [
        "<a href=\"https://colab.research.google.com/github/AlenaArd/Maths_A/blob/main/Set_Dz_6.ipynb\" target=\"_parent\"><img src=\"https://colab.research.google.com/assets/colab-badge.svg\" alt=\"Open In Colab\"/></a>"
      ]
    },
    {
      "cell_type": "markdown",
      "metadata": {
        "id": "ud-DlR2qC1a1"
      },
      "source": [
        ""
      ]
    },
    {
      "cell_type": "markdown",
      "metadata": {
        "id": "ydKtcmhvLwJw"
      },
      "source": [
        "__6*.__ Прочитайте высказывания, установите их истинность и постройте противоположное высказывание:\n",
        "\n",
        "### $$a)\\,\\,\\, \\forall x\\in\\mathbb{R}\\,\\,\\,\\exists X\\in\\mathbb{R}:\\,\\,\\, X>x;$$\n",
        "### $$б)\\,\\,\\, \\forall y\\in\\Bigl[0; \\frac{\\pi}{2}\\Bigr]\\,\\,\\,\\exists \\varepsilon>0:\\,\\,\\, \\sin y<\\sin(y+\\varepsilon);$$\n",
        "### $$в)\\,\\,\\, \\forall y\\in\\Bigl[0; \\pi\\Bigr)\\,\\,\\,\\exists \\varepsilon>0:\\,\\,\\, \\cos y>\\cos(y+\\varepsilon).$$"
      ]
    },
    {
      "cell_type": "markdown",
      "metadata": {
        "id": "DLFmc1lSC_xd"
      },
      "source": [
        "__6*.__ Oтвет: (-)\n",
        "\n",
        "### $$a)\\,\\,\\, \\exists x\\in\\mathbb{R}\\,\\,\\,\\forall X\\in\\mathbb{R}:\\,\\,\\, X<=x;$$\n",
        "### $$б)\\,\\,\\, \\exists y\\in\\Bigl[0; \\frac{\\pi}{2}\\Bigr]\\,\\,\\,\\forall \\varepsilon>0:\\,\\,\\, \\sin y>=\\sin(y+\\varepsilon);$$\n",
        "### $$в)\\,\\,\\, \\exists y\\in\\Bigl[0; \\pi\\Bigr)\\,\\,\\,\\forall \\varepsilon>0:\\,\\,\\, \\cos y<=\\cos(y+\\varepsilon).$$"
      ]
    },
    {
      "cell_type": "code",
      "metadata": {
        "id": "Q1oJ9oh8C_Jp"
      },
      "source": [
        ""
      ],
      "execution_count": null,
      "outputs": []
    },
    {
      "cell_type": "markdown",
      "metadata": {
        "id": "3AtFsAckEqRH"
      },
      "source": [
        ""
      ]
    }
  ]
}